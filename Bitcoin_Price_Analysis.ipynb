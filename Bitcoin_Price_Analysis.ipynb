{
 "cells": [
  {
   "cell_type": "markdown",
   "id": "75c264a7",
   "metadata": {},
   "source": [
    "# 📊 Bitcoin Price Analysis Project\n",
    "This notebook analyzes the historical price and volume data for Bitcoin over the last 12 months. It includes data cleaning, visualization, volatility analysis, and correlation insights.\n",
    "---"
   ]
  },
  {
   "cell_type": "code",
   "execution_count": null,
   "id": "ff0c3eeb",
   "metadata": {},
   "outputs": [],
   "source": [
    "import pandas as pd\n",
    "import matplotlib.pyplot as plt\n",
    "import seaborn as sns\n",
    "\n",
    "# Set plot style\n",
    "plt.style.use('ggplot')\n",
    "plt.rcParams['figure.figsize'] = (12, 6)\n",
    "\n",
    "# Load the data\n",
    "df = pd.read_csv(\"Bitcoin Historical Data.csv\")\n",
    "\n",
    "# Convert Date to datetime\n",
    "df['Date'] = pd.to_datetime(df['Date'], format='%m/%d/%Y')\n",
    "\n",
    "# Clean numeric columns\n",
    "for col in ['Price', 'Open', 'High', 'Low']:\n",
    "    df[col] = df[col].str.replace(',', '').astype(float)\n",
    "\n",
    "# Convert Volume\n",
    "def convert_volume(vol):\n",
    "    if isinstance(vol, str):\n",
    "        if vol.endswith('K'):\n",
    "            return float(vol[:-1].replace(',', '')) * 1_000\n",
    "        elif vol.endswith('M'):\n",
    "            return float(vol[:-1].replace(',', '')) * 1_000_000\n",
    "        else:\n",
    "            return float(vol.replace(',', ''))\n",
    "    return vol\n",
    "\n",
    "df['Volume'] = df['Vol.'].apply(convert_volume)\n",
    "df.drop(columns=['Vol.'], inplace=True)\n",
    "\n",
    "# Clean Change %\n",
    "df['Change %'] = df['Change %'].str.replace('%', '').astype(float)\n",
    "\n",
    "# Sort by date\n",
    "df.sort_values('Date', inplace=True)\n",
    "df.head()"
   ]
  },
  {
   "cell_type": "markdown",
   "id": "6d650cea",
   "metadata": {},
   "source": [
    "## 📈 Bitcoin Price Over Time"
   ]
  },
  {
   "cell_type": "code",
   "execution_count": null,
   "id": "887ea62b",
   "metadata": {},
   "outputs": [],
   "source": [
    "plt.plot(df['Date'], df['Price'], label='Closing Price', linewidth=2)\n",
    "plt.title('Bitcoin Price Over Time (Last 12 Months)')\n",
    "plt.xlabel('Date')\n",
    "plt.ylabel('Price (USD)')\n",
    "plt.legend()\n",
    "plt.grid(True)\n",
    "plt.tight_layout()\n",
    "plt.show()"
   ]
  },
  {
   "cell_type": "markdown",
   "id": "5196e642",
   "metadata": {},
   "source": [
    "## 📊 Daily Price Volatility (High - Low)"
   ]
  },
  {
   "cell_type": "code",
   "execution_count": null,
   "id": "a66ac76c",
   "metadata": {},
   "outputs": [],
   "source": [
    "df['Volatility'] = df['High'] - df['Low']\n",
    "plt.plot(df['Date'], df['Volatility'], color='orange', label='Daily Volatility')\n",
    "plt.title('Daily Bitcoin Price Volatility')\n",
    "plt.xlabel('Date')\n",
    "plt.ylabel('Volatility (USD)')\n",
    "plt.legend()\n",
    "plt.grid(True)\n",
    "plt.tight_layout()\n",
    "plt.show()"
   ]
  },
  {
   "cell_type": "markdown",
   "id": "af725825",
   "metadata": {},
   "source": [
    "## 🔗 Correlation Between Volume and Price"
   ]
  },
  {
   "cell_type": "code",
   "execution_count": null,
   "id": "cfb5dc4f",
   "metadata": {},
   "outputs": [],
   "source": [
    "sns.scatterplot(x=df['Volume'], y=df['Price'])\n",
    "plt.title('Correlation Between Volume and Price')\n",
    "plt.xlabel('Volume')\n",
    "plt.ylabel('Price (USD)')\n",
    "plt.tight_layout()\n",
    "plt.show()\n",
    "\n",
    "# Correlation coefficient\n",
    "correlation = df[['Volume', 'Price']].corr().iloc[0, 1]\n",
    "print(f\"Correlation coefficient: {correlation:.3f}\")"
   ]
  },
  {
   "cell_type": "markdown",
   "id": "cc93f398",
   "metadata": {},
   "source": [
    "## 📅 Average Monthly Price"
   ]
  },
  {
   "cell_type": "code",
   "execution_count": null,
   "id": "f2629694",
   "metadata": {},
   "outputs": [],
   "source": [
    "df['Month'] = df['Date'].dt.to_period('M')\n",
    "monthly_avg_price = df.groupby('Month')['Price'].mean().reset_index()\n",
    "plt.plot(monthly_avg_price['Month'].astype(str), monthly_avg_price['Price'], marker='o')\n",
    "plt.title('Average Monthly Bitcoin Price')\n",
    "plt.xlabel('Month')\n",
    "plt.ylabel('Average Price (USD)')\n",
    "plt.xticks(rotation=45)\n",
    "plt.tight_layout()\n",
    "plt.grid(True)\n",
    "plt.show()\n",
    "monthly_avg_price.tail()"
   ]
  },
  {
   "cell_type": "markdown",
   "id": "ec3204df",
   "metadata": {},
   "source": [
    "## 🏆 Top Volatility and Volume Days"
   ]
  },
  {
   "cell_type": "code",
   "execution_count": null,
   "id": "3a6a6097",
   "metadata": {},
   "outputs": [],
   "source": [
    "top_volatility = df.sort_values('Volatility', ascending=False).head(5)[['Date', 'Volatility']]\n",
    "top_volume = df.sort_values('Volume', ascending=False).head(5)[['Date', 'Volume']]\n",
    "print(\"Top 5 Volatility Days:\")\n",
    "print(top_volatility.to_string(index=False))\n",
    "print(\"\\nTop 5 Volume Days:\")\n",
    "print(top_volume.to_string(index=False))"
   ]
  }
 ],
 "metadata": {},
 "nbformat": 4,
 "nbformat_minor": 5
}
